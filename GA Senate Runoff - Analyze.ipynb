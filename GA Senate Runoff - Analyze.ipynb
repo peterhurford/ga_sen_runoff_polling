{
 "cells": [
  {
   "cell_type": "code",
   "execution_count": 1,
   "metadata": {},
   "outputs": [],
   "source": [
    "import pandas as pd\n",
    "import numpy as np\n",
    "import scipy.stats as stat\n",
    "\n",
    "from math import sqrt\n",
    "from mlgear.utils import show, display_columns\n",
    "from surveyweights import run_weighting_iteration, run_weighting_scheme, normalize_weights\n",
    "\n",
    "\n",
    "def margin_of_error(n=None, sd=None, p=None, type='proportion', interval_size=0.95):\n",
    "    z_lookup = {0.8: 1.28, 0.85: 1.44, 0.9: 1.65, 0.95: 1.96, 0.99: 2.58}\n",
    "    if interval_size not in z_lookup.keys():\n",
    "        raise ValueError('{} not a valid `interval_size` - must be {}'.format(interval_size,\n",
    "                                                                              ', '.join(list(z_lookup.keys()))))\n",
    "    if type == 'proportion':\n",
    "        se = sqrt(p * (1 - p)) / sqrt(n)\n",
    "    elif type == 'continuous':\n",
    "        se = sd / sqrt(n)\n",
    "    else:\n",
    "        raise ValueError('{} not a valid `type` - must be proportion or continuous')\n",
    "    \n",
    "    z = z_lookup[interval_size]\n",
    "    return se * z\n",
    "\n",
    "\n",
    "def print_pct(pct, digits=0):\n",
    "    pct = pct * 100\n",
    "    pct = np.round(pct, digits)\n",
    "    if pct >= 100:\n",
    "        if digits == 0:\n",
    "            val = '>99.0%'\n",
    "        else:\n",
    "            val = '>99.'\n",
    "            for d in range(digits - 1):\n",
    "                val += '9'\n",
    "            val += '9%'\n",
    "    elif pct <= 0:\n",
    "        if digits == 0:\n",
    "            val = '<0.1%'\n",
    "        else:\n",
    "            val = '<0.'\n",
    "            for d in range(digits - 1):\n",
    "                val += '0'\n",
    "            val += '1%'\n",
    "    else:\n",
    "        val = '{}%'.format(pct)\n",
    "    return val\n",
    "\n",
    "\n",
    "def calc_result(dem_vote, gop_vote, n, interval=0.8):\n",
    "    GENERAL_POLLING_ERROR = 3\n",
    "    N_SIMS = 100000\n",
    "    \n",
    "    dem_moe = margin_of_error(n=n, p=dem_vote/100, interval_size=interval)\n",
    "    gop_moe = margin_of_error(n=n, p=gop_vote/100, interval_size=interval)\n",
    "    undecided = (100 - dem_vote - gop_vote) / 2\n",
    "\n",
    "    dem_mean = dem_vote + undecided * 0.25\n",
    "    dem_raw_moe = dem_moe * 100\n",
    "    dem_allocate_undecided = undecided * 0.4\n",
    "    dem_margin = dem_raw_moe + dem_allocate_undecided + GENERAL_POLLING_ERROR\n",
    "    \n",
    "    gop_mean = gop_vote + undecided * 0.25\n",
    "    gop_raw_moe = gop_moe * 100\n",
    "    gop_allocate_undecided = undecided * 0.4\n",
    "    gop_margin = gop_raw_moe + gop_allocate_undecided + GENERAL_POLLING_ERROR\n",
    "    \n",
    "    cdf_value = 0.5 + 0.5 * interval\n",
    "    normed_sigma = stat.norm.ppf(cdf_value)\n",
    "    \n",
    "    dem_sigma = dem_margin / 100 / normed_sigma\n",
    "    dem_sims = np.random.normal(dem_mean / 100, dem_sigma, N_SIMS)\n",
    "    \n",
    "    gop_sigma = gop_margin / 100 / normed_sigma\n",
    "    gop_sims = np.random.normal(gop_mean / 100, gop_sigma, N_SIMS)\n",
    "    \n",
    "    chance_pass = np.sum([sim[0] / 100 > sim[1] / 100 for sim in zip(dem_sims, gop_sims)]) / N_SIMS\n",
    "    \n",
    "    low, high = np.percentile(dem_sims - gop_sims, [20, 80]) * 100\n",
    "    \n",
    "    return {'mean': dem_mean - gop_mean, 'high': high, 'low': low, 'n': n,\n",
    "            'raw_moe': dem_raw_moe + gop_raw_moe,\n",
    "            'margin': (dem_margin + gop_margin) / 2,\n",
    "            'sigma': (dem_sigma + gop_sigma) / 2,\n",
    "            'chance_pass': chance_pass}\n",
    "\n",
    "\n",
    "def print_result(mean, high, low, n, raw_moe, margin, sigma, chance_pass, dem_name, gop_name=None):\n",
    "    mean = np.round(mean, 1)\n",
    "    first = np.round(high, 1)\n",
    "    second = np.round(low, 1)\n",
    "    sigma = np.round(sigma * 100, 1)\n",
    "    raw_moe = np.round(raw_moe, 1)\n",
    "    margin = np.round(margin, 1)\n",
    "    chance_pass = print_pct(chance_pass, 1)\n",
    "    if second < first:\n",
    "        _ = first\n",
    "        first = second\n",
    "        second = _\n",
    "    if second > 100:\n",
    "        second = 100\n",
    "    if first < -100:\n",
    "        first = -100\n",
    "    print(('Result {} {}{} (80% CI: {} to {}) (Weighted N={}) (raw_moe={}pts, margin={}pts, '\n",
    "           'sigma={}pts) ({} {} likely to win)').format(dem_name,\n",
    "                                                        '+' if mean > 0 else '',\n",
    "                                                        mean,\n",
    "                                                        first,\n",
    "                                                        second,\n",
    "                                                        n,\n",
    "                                                        raw_moe,\n",
    "                                                        margin,\n",
    "                                                        sigma,\n",
    "                                                        dem_name,\n",
    "                                                        chance_pass))\n",
    "    print('-')"
   ]
  },
  {
   "cell_type": "code",
   "execution_count": 2,
   "metadata": {},
   "outputs": [],
   "source": [
    "survey = pd.read_csv('responses_processed.csv')"
   ]
  },
  {
   "cell_type": "code",
   "execution_count": 3,
   "metadata": {},
   "outputs": [
    {
     "data": {
      "text/plain": [
       "(1405, 34)"
      ]
     },
     "execution_count": 3,
     "metadata": {},
     "output_type": "execute_result"
    }
   ],
   "source": [
    "survey.shape"
   ]
  },
  {
   "cell_type": "code",
   "execution_count": 4,
   "metadata": {},
   "outputs": [],
   "source": [
    "GA_CENSUS = {'gender': {'Female': 0.511,\n",
    "                        'Male': 0.483,\n",
    "                        'Other': 0.006}, # Male-Female from 2010 US Census https://www.census.gov/prod/cen2010/briefs/c2010br-03.pdf, other from https://www.ncbi.nlm.nih.gov/pmc/articles/PMC5227946/\n",
    "             'race': {'White, not Hispanic': 0.520,\n",
    "                      'Black, non-Hispanic': 0.326,\n",
    "                      'Hispanic': 0.099,\n",
    "                      'Other': 0.055}, # https://www.census.gov/quickfacts/GA\n",
    "             'education': {'Graduated from college': 0.183,\n",
    "                           'Some college, no degree': 0.284,\n",
    "                           'Completed graduate school': 0.091,\n",
    "                           'Graduated from high school': 0.301,\n",
    "                           'Less than high school': 0.141}, # https://statisticalatlas.com/state/Georgia/Educational-Attainment\n",
    "             'income': {'Under $15,000': 0.1376,\n",
    "                        'Between $15,000 and $49,999': 0.3524,\n",
    "                        'Between $50,000 and $74,999': 0.1801,\n",
    "                        'Between $75,000 and $99,999': 0.116,\n",
    "                        'Between $100,000 and $150,000': 0.1207,\n",
    "                        'Over $150,000': 0.0932}, # https://statisticalatlas.com/state/Georgia/Household-Income\n",
    "             'age': {'18-34': 0.278,\n",
    "                     '35-54': 0.359,\n",
    "                     '55-64': 0.167,\n",
    "                     '65 or older': 0.196}, # https://www.statista.com/statistics/910774/georgia-population-share-age-group/\n",
    "             'vote2016': {'Donald Trump': 0.504,\n",
    "                          'Hillary Clinton': 0.453,\n",
    "                          'Other': 0.043},\n",
    "             'vote2020': {'Joe Biden': 0.495,\n",
    "                          'Donald Trump': 0.493,\n",
    "                          'Other': 0.012},\n",
    "             'loc_county': {'Fulton County, GA': 0.1,\n",
    "                            'Cobb County, GA': 0.072,\n",
    "                            'Gwinnett County, GA': 0.088,\n",
    "                            'DeKalb County, GA': 0.0715,\n",
    "                            'Another county in Georgia': 0.6685},\n",
    "             'gss_trust': {'Can trust': 0.331,\n",
    "                           'Can\\'t be too careful': 0.669 }, # From GSS 2018 https://gssdataexplorer.norc.org/variables/441/vshow\n",
    "             'gss_bible': {'Word of God': 0.41,\n",
    "                           'Inspired word': 0.46,\n",
    "                           'Book of fables': 0.13}, # From GSS 2018 https://gssdataexplorer.norc.org/variables/364/vshow (Region=South)\n",
    "             'gss_spanking': {'Agree': 0.677, 'Disagree': 0.323},  # From GSS 2018 https://gssdataexplorer.norc.org/trends/Gender%20&%20Marriage?measure=spanking\n",
    "             'social_fb': {'No': 0.31, 'Yes': 0.69}} # https://www.pewresearch.org/internet/fact-sheet/social-media/\n",
    "\n",
    "#weigh_on = ['loc_county', 'gender', 'race', 'education', 'income', 'age', 'vote2016', 'vote2020']\n",
    "#            'gss_trust', 'gss_bible', 'gss_spanking', 'social_fb']\n",
    "#run_weighting_iteration(survey, weigh_on=weigh_on, census=GA_CENSUS)"
   ]
  },
  {
   "cell_type": "code",
   "execution_count": 5,
   "metadata": {},
   "outputs": [],
   "source": [
    "# output = run_weighting_scheme(survey, iters=100, weigh_on=weigh_on, census=GA_CENSUS, verbose=1, early_terminate=False)"
   ]
  },
  {
   "cell_type": "code",
   "execution_count": 6,
   "metadata": {},
   "outputs": [],
   "source": [
    "# survey = output['final_df']\n",
    "survey['weight'] = 1\n",
    "# _ = run_weighting_iteration(survey, weigh_on=weigh_on, census=GA_CENSUS)"
   ]
  },
  {
   "cell_type": "code",
   "execution_count": 7,
   "metadata": {},
   "outputs": [
    {
     "data": {
      "text/plain": [
       "0.83    1189\n",
       "0.23     151\n",
       "0.63      25\n",
       "0.40      19\n",
       "0.59      16\n",
       "0.11       5\n",
       "Name: lv_index, dtype: int64"
      ]
     },
     "execution_count": 7,
     "metadata": {},
     "output_type": "execute_result"
    }
   ],
   "source": [
    "survey['lv_index'] = 0\n",
    "survey.loc[(survey['lv_likely'] == 'Very likely'), 'lv_index'] += 1\n",
    "survey.loc[(survey['lv_likely'] == 'Already voted'), 'lv_index'] += 1\n",
    "survey.loc[(survey['lv_likely'] == 'Likely'), 'lv_index'] += 0.7\n",
    "survey.loc[(survey['lv_likely'] == 'Somewhat likely'), 'lv_index'] += 0.4\n",
    "survey.loc[(survey['lv_likely'] == 'Neither likely nor unlikely'), 'lv_index'] += 0.2\n",
    "survey.loc[(survey['lv_likely'] == 'Somewhat unlikely'), 'lv_index'] += 0.1\n",
    "survey.loc[(survey['lv_likely'] == 'Unlikely'), 'lv_index'] += 0.05\n",
    "survey.loc[(survey['vote2020'] != 'Did not vote'), 'lv_index'] += 0.5\n",
    "\n",
    "# https://www.pewresearch.org/methods/2016/01/07/measuring-the-likelihood-to-vote/\n",
    "perry_gallup_loadings = {7: 0.83, 6: 0.63, 5: 0.59, 4: 0.4, 3: 0.34, 2: 0.23, 1: 0.13, 0: 0.11}\n",
    "survey['lv_index'] = survey['lv_index'].apply(lambda l: perry_gallup_loadings[int(np.round(l * 7/1.5))])\n",
    "survey['lv_weight'] = normalize_weights(survey['weight'] * survey['lv_index'])\n",
    "survey['lv_index'].value_counts()"
   ]
  },
  {
   "cell_type": "code",
   "execution_count": 8,
   "metadata": {},
   "outputs": [],
   "source": [
    "# TODO: Turnout analysis (look at 2020 vote and people who were dropped)"
   ]
  },
  {
   "cell_type": "code",
   "execution_count": 9,
   "metadata": {},
   "outputs": [
    {
     "name": "stdout",
     "output_type": "stream",
     "text": [
      "## 2016 VOTE - DEMOGRAPHIC WEIGHTS ##\n",
      "Hillary Clinton    41.637011\n",
      "Donald Trump       40.996441\n",
      "Other               4.626335\n",
      "Did not vote       12.740214\n",
      "dtype: float64\n",
      "Result Clinton +0.6 (80% CI: -6.9 to 8.3) (Weighted N=1405) (raw_moe=3.4pts, margin=8.2pts, sigma=6.4pts) (Clinton 53.1% likely to win)\n",
      "-\n"
     ]
    }
   ],
   "source": [
    "print('## 2016 VOTE - DEMOGRAPHIC WEIGHTS ##')\n",
    "options = ['Hillary Clinton', 'Donald Trump', 'Other', 'Did not vote']\n",
    "survey_ = survey.loc[survey['vote2016'].isin(options)].copy()\n",
    "survey_['weight'] = normalize_weights(survey_['weight'])\n",
    "survey_['lv_weight'] = normalize_weights(survey_['lv_weight'])\n",
    "weighted_n = int(np.round(survey_['weight'].apply(lambda w: 1 if w > 1 else w).sum()))\n",
    "lv_weighted_n = int(np.round(survey_['lv_weight'].apply(lambda w: 1 if w > 1 else w).sum()))\n",
    "votes = survey_['vote2016'].value_counts(normalize=True) * survey_.groupby('vote2016')['weight'].mean() * 100\n",
    "votes = votes[options] * (100 / votes[options].sum())\n",
    "print(votes)\n",
    "data = calc_result(dem_vote=votes['Hillary Clinton'],\n",
    "                   gop_vote=votes['Donald Trump'],\n",
    "                   n=weighted_n)\n",
    "data['dem_name'] = 'Clinton'\n",
    "print_result(**data)"
   ]
  },
  {
   "cell_type": "code",
   "execution_count": 10,
   "metadata": {},
   "outputs": [
    {
     "name": "stdout",
     "output_type": "stream",
     "text": [
      "## 2016 VOTE - DEMOGRAPHIC WEIGHTS + 2020 RUNOFF LIKELY VOTERS ##\n",
      "Hillary Clinton    41.497147\n",
      "Donald Trump       43.663147\n",
      "Other               4.328208\n",
      "Did not vote       10.511498\n",
      "dtype: float64\n",
      "Result Clinton -2.2 (80% CI: -9.4 to 5.0) (Weighted N=1280) (raw_moe=3.5pts, margin=7.7pts, sigma=6.0pts) (Clinton 40.0% likely to win)\n",
      "-\n"
     ]
    }
   ],
   "source": [
    "print('## 2016 VOTE - DEMOGRAPHIC WEIGHTS + 2020 RUNOFF LIKELY VOTERS ##')\n",
    "votes = survey_['vote2016'].value_counts(normalize=True) * survey_.groupby('vote2016')['lv_weight'].mean() * 100\n",
    "votes = votes[options] * (100 / votes[options].sum())\n",
    "print(votes)\n",
    "data = calc_result(dem_vote=votes['Hillary Clinton'],\n",
    "                   gop_vote=votes['Donald Trump'],\n",
    "                   n=lv_weighted_n)\n",
    "data['dem_name'] = 'Clinton'\n",
    "print_result(**data)"
   ]
  },
  {
   "cell_type": "code",
   "execution_count": 11,
   "metadata": {},
   "outputs": [
    {
     "name": "stdout",
     "output_type": "stream",
     "text": [
      "## 2020 PREZ VOTE - DEMOGRAPHIC WEIGHTS ##\n",
      "Joe Biden       55.587189\n",
      "Donald Trump    40.498221\n",
      "Other            2.206406\n",
      "Did not vote     1.708185\n",
      "dtype: float64\n",
      "Result Biden +15.1 (80% CI: 10.0 to 20.2) (Weighted N=1405) (raw_moe=3.4pts, margin=5.5pts, sigma=4.3pts) (Biden 99.4% likely to win)\n",
      "-\n"
     ]
    }
   ],
   "source": [
    "print('## 2020 PREZ VOTE - DEMOGRAPHIC WEIGHTS ##')\n",
    "options = ['Joe Biden', 'Donald Trump', 'Other', 'Did not vote']\n",
    "survey_ = survey.loc[survey['vote2020'].isin(options)].copy()\n",
    "survey_['weight'] = normalize_weights(survey_['weight'])\n",
    "survey_['lv_weight'] = normalize_weights(survey_['lv_weight'])\n",
    "weighted_n = int(np.round(survey_['weight'].apply(lambda w: 1 if w > 1 else w).sum()))\n",
    "lv_weighted_n = int(np.round(survey_['lv_weight'].apply(lambda w: 1 if w > 1 else w).sum()))\n",
    "votes = survey_['vote2020'].value_counts(normalize=True) * survey_.groupby('vote2020')['weight'].mean() * 100\n",
    "votes = votes[options] * (100 / votes[options].sum())\n",
    "print(votes)\n",
    "data = calc_result(dem_vote=votes['Joe Biden'],\n",
    "                   gop_vote=votes['Donald Trump'],\n",
    "                   n=weighted_n)\n",
    "data['dem_name'] = 'Biden'\n",
    "print_result(**data)"
   ]
  },
  {
   "cell_type": "code",
   "execution_count": 12,
   "metadata": {},
   "outputs": [
    {
     "name": "stdout",
     "output_type": "stream",
     "text": [
      "## 2020 PREZ VOTE - DEMOGRAPHIC WEIGHTS + 2020 RUNOFF LIKELY VOTERS ##\n",
      "Joe Biden       53.756612\n",
      "Donald Trump    43.287770\n",
      "Other            1.943238\n",
      "Did not vote     1.012380\n",
      "dtype: float64\n",
      "Result Biden +10.5 (80% CI: 5.5 to 15.5) (Weighted N=1280) (raw_moe=3.6pts, margin=5.4pts, sigma=4.2pts) (Biden 96.1% likely to win)\n",
      "-\n"
     ]
    }
   ],
   "source": [
    "print('## 2020 PREZ VOTE - DEMOGRAPHIC WEIGHTS + 2020 RUNOFF LIKELY VOTERS ##')\n",
    "votes = survey_['vote2020'].value_counts(normalize=True) * survey_.groupby('vote2020')['lv_weight'].mean() * 100\n",
    "votes = votes[options] * (100 / votes[options].sum())\n",
    "print(votes)\n",
    "data = calc_result(dem_vote=votes['Joe Biden'],\n",
    "                   gop_vote=votes['Donald Trump'],\n",
    "                   n=lv_weighted_n)\n",
    "data['dem_name'] = 'Biden'\n",
    "print_result(**data)"
   ]
  },
  {
   "cell_type": "code",
   "execution_count": 13,
   "metadata": {},
   "outputs": [
    {
     "name": "stdout",
     "output_type": "stream",
     "text": [
      "## OSSOFF vs. PERDUE - DEMOGRAPHIC WEIGHTS ##\n",
      "Jon Ossoff      55.302491\n",
      "David Perdue    40.996441\n",
      "Undecided        3.701068\n",
      "dtype: float64\n",
      "Result Ossoff +14.3 (80% CI: 9.2 to 19.3) (Weighted N=1405) (raw_moe=3.4pts, margin=5.4pts, sigma=4.2pts) (Ossoff 99.1% likely to win)\n",
      "-\n"
     ]
    }
   ],
   "source": [
    "print('## OSSOFF vs. PERDUE - DEMOGRAPHIC WEIGHTS ##')\n",
    "options = ['Jon Ossoff', 'David Perdue', 'Undecided']\n",
    "survey_ = survey.loc[survey['vote_ossoff_perdue'].isin(options)].copy()\n",
    "survey_['weight'] = normalize_weights(survey_['weight'])\n",
    "survey_['lv_weight'] = normalize_weights(survey_['lv_weight'])\n",
    "weighted_n = int(np.round(survey_['weight'].apply(lambda w: 1 if w > 1 else w).sum()))\n",
    "lv_weighted_n = int(np.round(survey_['lv_weight'].apply(lambda w: 1 if w > 1 else w).sum()))\n",
    "votes = survey_['vote_ossoff_perdue'].value_counts(normalize=True) * survey_.groupby('vote_ossoff_perdue')['weight'].mean() * 100\n",
    "votes = votes[options] * (100 / votes[options].sum())\n",
    "print(votes)\n",
    "data = calc_result(dem_vote=votes['Jon Ossoff'],\n",
    "                   gop_vote=votes['David Perdue'],\n",
    "                   n=weighted_n)\n",
    "data['dem_name'] = 'Ossoff'\n",
    "print_result(**data)"
   ]
  },
  {
   "cell_type": "code",
   "execution_count": 14,
   "metadata": {},
   "outputs": [
    {
     "name": "stdout",
     "output_type": "stream",
     "text": [
      "## OSSOFF vs. PERDUE - DEMOGRAPHIC WEIGHTS + 2020 RUNOFF LIKELY VOTERS ##\n",
      "Jon Ossoff      52.966045\n",
      "David Perdue    43.538969\n",
      "Undecided        3.494985\n",
      "dtype: float64\n",
      "Result Ossoff +9.4 (80% CI: 4.4 to 14.5) (Weighted N=1280) (raw_moe=3.6pts, margin=5.5pts, sigma=4.3pts) (Ossoff 94.2% likely to win)\n",
      "-\n"
     ]
    }
   ],
   "source": [
    "print('## OSSOFF vs. PERDUE - DEMOGRAPHIC WEIGHTS + 2020 RUNOFF LIKELY VOTERS ##')\n",
    "votes = survey_['vote_ossoff_perdue'].value_counts(normalize=True) * survey_.groupby('vote_ossoff_perdue')['lv_weight'].mean() * 100\n",
    "votes = votes[options] * (100 / votes[options].sum())\n",
    "print(votes)\n",
    "data = calc_result(dem_vote=votes['Jon Ossoff'],\n",
    "                   gop_vote=votes['David Perdue'],\n",
    "                   n=lv_weighted_n)\n",
    "data['dem_name'] = 'Ossoff'\n",
    "print_result(**data)"
   ]
  },
  {
   "cell_type": "code",
   "execution_count": 15,
   "metadata": {},
   "outputs": [
    {
     "name": "stdout",
     "output_type": "stream",
     "text": [
      "## WARNOCK vs. LOEFFLER - DEMOGRAPHIC WEIGHTS ##\n",
      "Raphael Warnock    55.800712\n",
      "Kelly Loeffler     40.355872\n",
      "Undecided           3.843416\n",
      "dtype: float64\n",
      "Result Warnock +15.4 (80% CI: 10.3 to 20.5) (Weighted N=1405) (raw_moe=3.4pts, margin=5.5pts, sigma=4.3pts) (Warnock 99.5% likely to win)\n",
      "-\n"
     ]
    }
   ],
   "source": [
    "print('## WARNOCK vs. LOEFFLER - DEMOGRAPHIC WEIGHTS ##')\n",
    "options = ['Raphael Warnock', 'Kelly Loeffler', 'Undecided']\n",
    "survey_ = survey.loc[survey['vote_warnock_loeffler'].isin(options)].copy()\n",
    "survey_['weight'] = normalize_weights(survey_['weight'])\n",
    "survey_['lv_weight'] = normalize_weights(survey_['lv_weight'])\n",
    "weighted_n = int(np.round(survey_['weight'].apply(lambda w: 1 if w > 1 else w).sum()))\n",
    "lv_weighted_n = int(np.round(survey_['lv_weight'].apply(lambda w: 1 if w > 1 else w).sum()))\n",
    "votes = survey_['vote_warnock_loeffler'].value_counts(normalize=True) * survey_.groupby('vote_warnock_loeffler')['weight'].mean() * 100\n",
    "votes = votes[options] * (100 / votes[options].sum())\n",
    "print(votes)\n",
    "data = calc_result(dem_vote=votes['Raphael Warnock'],\n",
    "                   gop_vote=votes['Kelly Loeffler'],\n",
    "                   n=weighted_n)\n",
    "data['dem_name'] = 'Warnock'\n",
    "print_result(**data)"
   ]
  },
  {
   "cell_type": "code",
   "execution_count": 16,
   "metadata": {},
   "outputs": [
    {
     "name": "stdout",
     "output_type": "stream",
     "text": [
      "## WARNOCK vs. LOEFFLER - DEMOGRAPHIC WEIGHTS + 2020 LIKELY VOTER ##\n",
      "Raphael Warnock    53.534798\n",
      "Kelly Loeffler     43.000550\n",
      "Undecided           3.464652\n",
      "dtype: float64\n",
      "Result Warnock +10.5 (80% CI: 5.5 to 15.6) (Weighted N=1280) (raw_moe=3.6pts, margin=5.5pts, sigma=4.3pts) (Warnock 95.9% likely to win)\n",
      "-\n"
     ]
    }
   ],
   "source": [
    "print('## WARNOCK vs. LOEFFLER - DEMOGRAPHIC WEIGHTS + 2020 LIKELY VOTER ##')\n",
    "votes = survey_['vote_warnock_loeffler'].value_counts(normalize=True) * survey_.groupby('vote_warnock_loeffler')['lv_weight'].mean() * 100\n",
    "votes = votes[options] * (100 / votes[options].sum())\n",
    "print(votes)\n",
    "data = calc_result(dem_vote=votes['Raphael Warnock'],\n",
    "                   gop_vote=votes['Kelly Loeffler'],\n",
    "                   n=lv_weighted_n)\n",
    "data['dem_name'] = 'Warnock'\n",
    "print_result(**data)"
   ]
  }
 ],
 "metadata": {
  "kernelspec": {
   "display_name": "Python 3",
   "language": "python",
   "name": "python3"
  },
  "language_info": {
   "codemirror_mode": {
    "name": "ipython",
    "version": 3
   },
   "file_extension": ".py",
   "mimetype": "text/x-python",
   "name": "python",
   "nbconvert_exporter": "python",
   "pygments_lexer": "ipython3",
   "version": "3.8.6"
  }
 },
 "nbformat": 4,
 "nbformat_minor": 4
}
